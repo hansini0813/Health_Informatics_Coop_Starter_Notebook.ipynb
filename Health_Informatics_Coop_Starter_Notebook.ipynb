{
  "nbformat": 4,
  "nbformat_minor": 0,
  "metadata": {
    "colab": {
      "provenance": [],
      "toc_visible": true
    },
    "kernelspec": {
      "name": "python3",
      "display_name": "Python 3"
    },
    "language_info": {
      "name": "python"
    }
  },
  "cells": [
    {
      "cell_type": "markdown",
      "metadata": {
        "id": "O2duON3l2E63"
      },
      "source": [
        "# Data Analysis Pipeline\n",
        "\n",
        "This is an interactive notebooke we will be using to run our analysis. This environment is very similar to other python IDEs so I will not be going over its use. If you need help, just message me on Slack and we can work together!\n"
      ]
    },
    {
      "cell_type": "markdown",
      "metadata": {
        "id": "fU87Dywg25cx"
      },
      "source": [
        "We will be using the following pipeline. Now, there are many ways to have a \"proper\" pipeline and there are drawbacks to each choice. I want you to think about potential \"problems\" in the data and different ways we can \"solve\" them computationally. TLDR: There is no one true or best way to have a data analysis pipeline --> They all have drawbacks.  \n",
        "\n",
        "As this is a fairly dense topic, along the way I will have readings for each section so you can understand what is happening at each step and what you need to do!\n",
        "\n",
        "This is very dense so please reach out to me as problems or confusion arises.\n"
      ]
    },
    {
      "cell_type": "markdown",
      "metadata": {
        "id": "63SRwgmesFM4"
      },
      "source": [
        "### About the data\n",
        "There data we will be analyzing can be found [here](https://www.kaggle.com/ronitf/heart-disease-uci?select=heart.csv)\n",
        "\n",
        "However, please use the version I provided you with. This link is just provided so that you can read about the data and what each variable means."
      ]
    },
    {
      "cell_type": "markdown",
      "metadata": {
        "id": "gaFZY_S43amV"
      },
      "source": [
        "### Summary of Data Analysis Pipeline\n",
        "\n",
        "Below is a summary of the minimum steps needed in a data analysis pipeline. In reality, there is a lot more iterative analysis but we are trying to just cover the basics. Right now I think that we will aim to do a decision tree because it is fairly easy to understand and to explain to others.\n",
        "\n",
        "1. Data Loading and Cleaning\n",
        "2. Feature Selection for decision tree\n",
        "3. Choosing a model and model tuning (involves cross validation or validation set)\n",
        "4. Summarizing the model and explaining what we don't know. This involves metrics for quantifying how good the model is.\n",
        "\n",
        "\n"
      ]
    },
    {
      "cell_type": "code",
      "metadata": {
        "id": "DwAQ746u3IMW"
      },
      "source": [
        "#Imports\n",
        "\n",
        "import pandas as pd\n",
        "import numpy as np\n",
        "\n",
        "import seaborn as sns\n",
        "import matplotlib.pyplot as plt"
      ],
      "execution_count": null,
      "outputs": []
    },
    {
      "cell_type": "markdown",
      "metadata": {
        "id": "xD1SgGTc3zrT"
      },
      "source": [
        "### Step 1: Data Loading and Cleaning\n",
        "\n",
        "Here are the main steps of data cleaning and loading that we need to do!\n",
        "\n",
        "- Examine Data\n",
        "- Remove Outliers\n",
        "- Deal with Missing Data\n",
        "- Encode the data\n",
        "- Normalization\n",
        "\n",
        "These are the minimum steps that must be done before any analysis starts!"
      ]
    },
    {
      "cell_type": "markdown",
      "metadata": {
        "id": "iqOmgYO2lFIa"
      },
      "source": [
        "#### Examining the Data\n",
        "\n",
        "One important way to understand data is data types. To understand data types read [this](https://towardsdatascience.com/7-data-types-a-better-way-to-think-about-data-types-for-machine-learning-939fae99a689)\n",
        "\n",
        "In the next cell I have code to load the data."
      ]
    },
    {
      "cell_type": "markdown",
      "metadata": {
        "id": "drQwL-PFl2bg"
      },
      "source": [
        "**IMPORTANT** You have to add the data to the notebook before every session. Click on the folder in the sidebar and drag in the csv I provided."
      ]
    },
    {
      "cell_type": "code",
      "metadata": {
        "id": "1ueyw9-T32nQ"
      },
      "source": [
        "#Load\n",
        "\n",
        "df_raw = pd.read_csv('heart_disease_missing.csv')\n",
        "\n",
        "\n",
        "#These are data types see reading!\n",
        "bins = ['sex', 'fbs', 'exang']\n",
        "cats = ['cp', 'restecg', 'slope', 'thal']\n",
        "ords = ['ca']\n",
        "nums = ['age', 'oldpeak', 'trestbps', 'chol', 'thalach']\n",
        "target = ['target']\n",
        "\n"
      ],
      "execution_count": null,
      "outputs": []
    },
    {
      "cell_type": "markdown",
      "metadata": {
        "id": "uAmR_swcnO56"
      },
      "source": [
        "To first examine the data we will look at the top of the data using the head() function."
      ]
    },
    {
      "cell_type": "code",
      "metadata": {
        "colab": {
          "base_uri": "https://localhost:8080/",
          "height": 206
        },
        "id": "56OwBi-enKxn",
        "outputId": "ef110a0c-f05d-477e-df10-03a3ac47180f"
      },
      "source": [
        "df_raw.head()"
      ],
      "execution_count": null,
      "outputs": [
        {
          "output_type": "execute_result",
          "data": {
            "text/html": [
              "<div>\n",
              "<style scoped>\n",
              "    .dataframe tbody tr th:only-of-type {\n",
              "        vertical-align: middle;\n",
              "    }\n",
              "\n",
              "    .dataframe tbody tr th {\n",
              "        vertical-align: top;\n",
              "    }\n",
              "\n",
              "    .dataframe thead th {\n",
              "        text-align: right;\n",
              "    }\n",
              "</style>\n",
              "<table border=\"1\" class=\"dataframe\">\n",
              "  <thead>\n",
              "    <tr style=\"text-align: right;\">\n",
              "      <th></th>\n",
              "      <th>age</th>\n",
              "      <th>sex</th>\n",
              "      <th>cp</th>\n",
              "      <th>trestbps</th>\n",
              "      <th>chol</th>\n",
              "      <th>fbs</th>\n",
              "      <th>restecg</th>\n",
              "      <th>thalach</th>\n",
              "      <th>exang</th>\n",
              "      <th>oldpeak</th>\n",
              "      <th>slope</th>\n",
              "      <th>ca</th>\n",
              "      <th>thal</th>\n",
              "      <th>target</th>\n",
              "    </tr>\n",
              "  </thead>\n",
              "  <tbody>\n",
              "    <tr>\n",
              "      <th>0</th>\n",
              "      <td>63.0</td>\n",
              "      <td>1.0</td>\n",
              "      <td>3.0</td>\n",
              "      <td>145.0</td>\n",
              "      <td>233.0</td>\n",
              "      <td>1.0</td>\n",
              "      <td>0.0</td>\n",
              "      <td>150.0</td>\n",
              "      <td>0.0</td>\n",
              "      <td>2.3</td>\n",
              "      <td>0.0</td>\n",
              "      <td>0.0</td>\n",
              "      <td>1.0</td>\n",
              "      <td>1.0</td>\n",
              "    </tr>\n",
              "    <tr>\n",
              "      <th>1</th>\n",
              "      <td>37.0</td>\n",
              "      <td>1.0</td>\n",
              "      <td>2.0</td>\n",
              "      <td>130.0</td>\n",
              "      <td>250.0</td>\n",
              "      <td>0.0</td>\n",
              "      <td>1.0</td>\n",
              "      <td>187.0</td>\n",
              "      <td>0.0</td>\n",
              "      <td>3.5</td>\n",
              "      <td>0.0</td>\n",
              "      <td>0.0</td>\n",
              "      <td>2.0</td>\n",
              "      <td>1.0</td>\n",
              "    </tr>\n",
              "    <tr>\n",
              "      <th>2</th>\n",
              "      <td>41.0</td>\n",
              "      <td>0.0</td>\n",
              "      <td>1.0</td>\n",
              "      <td>130.0</td>\n",
              "      <td>204.0</td>\n",
              "      <td>0.0</td>\n",
              "      <td>0.0</td>\n",
              "      <td>172.0</td>\n",
              "      <td>0.0</td>\n",
              "      <td>1.4</td>\n",
              "      <td>2.0</td>\n",
              "      <td>0.0</td>\n",
              "      <td>2.0</td>\n",
              "      <td>1.0</td>\n",
              "    </tr>\n",
              "    <tr>\n",
              "      <th>3</th>\n",
              "      <td>56.0</td>\n",
              "      <td>1.0</td>\n",
              "      <td>1.0</td>\n",
              "      <td>120.0</td>\n",
              "      <td>236.0</td>\n",
              "      <td>0.0</td>\n",
              "      <td>1.0</td>\n",
              "      <td>178.0</td>\n",
              "      <td>0.0</td>\n",
              "      <td>0.8</td>\n",
              "      <td>2.0</td>\n",
              "      <td>0.0</td>\n",
              "      <td>2.0</td>\n",
              "      <td>1.0</td>\n",
              "    </tr>\n",
              "    <tr>\n",
              "      <th>4</th>\n",
              "      <td>57.0</td>\n",
              "      <td>0.0</td>\n",
              "      <td>0.0</td>\n",
              "      <td>NaN</td>\n",
              "      <td>354.0</td>\n",
              "      <td>0.0</td>\n",
              "      <td>1.0</td>\n",
              "      <td>163.0</td>\n",
              "      <td>1.0</td>\n",
              "      <td>0.6</td>\n",
              "      <td>2.0</td>\n",
              "      <td>0.0</td>\n",
              "      <td>2.0</td>\n",
              "      <td>1.0</td>\n",
              "    </tr>\n",
              "  </tbody>\n",
              "</table>\n",
              "</div>"
            ],
            "text/plain": [
              "    age  sex   cp  trestbps   chol  ...  oldpeak  slope   ca  thal  target\n",
              "0  63.0  1.0  3.0     145.0  233.0  ...      2.3    0.0  0.0   1.0     1.0\n",
              "1  37.0  1.0  2.0     130.0  250.0  ...      3.5    0.0  0.0   2.0     1.0\n",
              "2  41.0  0.0  1.0     130.0  204.0  ...      1.4    2.0  0.0   2.0     1.0\n",
              "3  56.0  1.0  1.0     120.0  236.0  ...      0.8    2.0  0.0   2.0     1.0\n",
              "4  57.0  0.0  0.0       NaN  354.0  ...      0.6    2.0  0.0   2.0     1.0\n",
              "\n",
              "[5 rows x 14 columns]"
            ]
          },
          "metadata": {
            "tags": []
          },
          "execution_count": 78
        }
      ]
    },
    {
      "cell_type": "markdown",
      "metadata": {
        "id": "AL7t9T0vnVCY"
      },
      "source": [
        "We can also get a lot of insight using the describe function! Recall what you learned about mean, standard deviation, minimum, maxiumum and quantiles.\n",
        "\n",
        "**TODO: Make note of which columns have missing values, and other interesting features!**"
      ]
    },
    {
      "cell_type": "code",
      "metadata": {
        "colab": {
          "base_uri": "https://localhost:8080/",
          "height": 320
        },
        "id": "lHGt5W0undBD",
        "outputId": "40a119f7-7c03-4c9d-910f-154a0377facc"
      },
      "source": [
        "df_raw.describe()\n"
      ],
      "execution_count": null,
      "outputs": [
        {
          "output_type": "execute_result",
          "data": {
            "text/html": [
              "<div>\n",
              "<style scoped>\n",
              "    .dataframe tbody tr th:only-of-type {\n",
              "        vertical-align: middle;\n",
              "    }\n",
              "\n",
              "    .dataframe tbody tr th {\n",
              "        vertical-align: top;\n",
              "    }\n",
              "\n",
              "    .dataframe thead th {\n",
              "        text-align: right;\n",
              "    }\n",
              "</style>\n",
              "<table border=\"1\" class=\"dataframe\">\n",
              "  <thead>\n",
              "    <tr style=\"text-align: right;\">\n",
              "      <th></th>\n",
              "      <th>age</th>\n",
              "      <th>sex</th>\n",
              "      <th>cp</th>\n",
              "      <th>trestbps</th>\n",
              "      <th>chol</th>\n",
              "      <th>fbs</th>\n",
              "      <th>restecg</th>\n",
              "      <th>thalach</th>\n",
              "      <th>exang</th>\n",
              "      <th>oldpeak</th>\n",
              "      <th>slope</th>\n",
              "      <th>ca</th>\n",
              "      <th>thal</th>\n",
              "      <th>target</th>\n",
              "    </tr>\n",
              "  </thead>\n",
              "  <tbody>\n",
              "    <tr>\n",
              "      <th>count</th>\n",
              "      <td>242.000000</td>\n",
              "      <td>242.000000</td>\n",
              "      <td>242.000000</td>\n",
              "      <td>241.000000</td>\n",
              "      <td>242.000000</td>\n",
              "      <td>241.000000</td>\n",
              "      <td>242.000000</td>\n",
              "      <td>242.000000</td>\n",
              "      <td>242.000000</td>\n",
              "      <td>242.000000</td>\n",
              "      <td>241.000000</td>\n",
              "      <td>242.000000</td>\n",
              "      <td>242.000000</td>\n",
              "      <td>242.000000</td>\n",
              "    </tr>\n",
              "    <tr>\n",
              "      <th>mean</th>\n",
              "      <td>54.256198</td>\n",
              "      <td>0.661157</td>\n",
              "      <td>0.991736</td>\n",
              "      <td>131.834025</td>\n",
              "      <td>241.495868</td>\n",
              "      <td>0.145228</td>\n",
              "      <td>0.549587</td>\n",
              "      <td>149.896694</td>\n",
              "      <td>0.305785</td>\n",
              "      <td>1.095455</td>\n",
              "      <td>1.398340</td>\n",
              "      <td>0.665289</td>\n",
              "      <td>2.285124</td>\n",
              "      <td>0.553719</td>\n",
              "    </tr>\n",
              "    <tr>\n",
              "      <th>std</th>\n",
              "      <td>9.116606</td>\n",
              "      <td>0.474297</td>\n",
              "      <td>1.046598</td>\n",
              "      <td>16.883592</td>\n",
              "      <td>48.517204</td>\n",
              "      <td>0.353064</td>\n",
              "      <td>0.530814</td>\n",
              "      <td>22.469566</td>\n",
              "      <td>0.461694</td>\n",
              "      <td>1.196095</td>\n",
              "      <td>0.638225</td>\n",
              "      <td>0.950842</td>\n",
              "      <td>0.615587</td>\n",
              "      <td>0.498136</td>\n",
              "    </tr>\n",
              "    <tr>\n",
              "      <th>min</th>\n",
              "      <td>34.000000</td>\n",
              "      <td>0.000000</td>\n",
              "      <td>0.000000</td>\n",
              "      <td>94.000000</td>\n",
              "      <td>126.000000</td>\n",
              "      <td>0.000000</td>\n",
              "      <td>0.000000</td>\n",
              "      <td>71.000000</td>\n",
              "      <td>0.000000</td>\n",
              "      <td>0.000000</td>\n",
              "      <td>0.000000</td>\n",
              "      <td>0.000000</td>\n",
              "      <td>0.000000</td>\n",
              "      <td>0.000000</td>\n",
              "    </tr>\n",
              "    <tr>\n",
              "      <th>25%</th>\n",
              "      <td>47.000000</td>\n",
              "      <td>0.000000</td>\n",
              "      <td>0.000000</td>\n",
              "      <td>120.000000</td>\n",
              "      <td>207.250000</td>\n",
              "      <td>0.000000</td>\n",
              "      <td>0.000000</td>\n",
              "      <td>136.250000</td>\n",
              "      <td>0.000000</td>\n",
              "      <td>0.000000</td>\n",
              "      <td>1.000000</td>\n",
              "      <td>0.000000</td>\n",
              "      <td>2.000000</td>\n",
              "      <td>0.000000</td>\n",
              "    </tr>\n",
              "    <tr>\n",
              "      <th>50%</th>\n",
              "      <td>56.000000</td>\n",
              "      <td>1.000000</td>\n",
              "      <td>1.000000</td>\n",
              "      <td>130.000000</td>\n",
              "      <td>235.000000</td>\n",
              "      <td>0.000000</td>\n",
              "      <td>1.000000</td>\n",
              "      <td>152.500000</td>\n",
              "      <td>0.000000</td>\n",
              "      <td>0.800000</td>\n",
              "      <td>1.000000</td>\n",
              "      <td>0.000000</td>\n",
              "      <td>2.000000</td>\n",
              "      <td>1.000000</td>\n",
              "    </tr>\n",
              "    <tr>\n",
              "      <th>75%</th>\n",
              "      <td>61.000000</td>\n",
              "      <td>1.000000</td>\n",
              "      <td>2.000000</td>\n",
              "      <td>140.000000</td>\n",
              "      <td>269.000000</td>\n",
              "      <td>0.000000</td>\n",
              "      <td>1.000000</td>\n",
              "      <td>166.750000</td>\n",
              "      <td>1.000000</td>\n",
              "      <td>1.750000</td>\n",
              "      <td>2.000000</td>\n",
              "      <td>1.000000</td>\n",
              "      <td>3.000000</td>\n",
              "      <td>1.000000</td>\n",
              "    </tr>\n",
              "    <tr>\n",
              "      <th>max</th>\n",
              "      <td>76.000000</td>\n",
              "      <td>1.000000</td>\n",
              "      <td>3.000000</td>\n",
              "      <td>200.000000</td>\n",
              "      <td>417.000000</td>\n",
              "      <td>1.000000</td>\n",
              "      <td>2.000000</td>\n",
              "      <td>194.000000</td>\n",
              "      <td>1.000000</td>\n",
              "      <td>6.200000</td>\n",
              "      <td>2.000000</td>\n",
              "      <td>4.000000</td>\n",
              "      <td>3.000000</td>\n",
              "      <td>1.000000</td>\n",
              "    </tr>\n",
              "  </tbody>\n",
              "</table>\n",
              "</div>"
            ],
            "text/plain": [
              "              age         sex          cp  ...          ca        thal      target\n",
              "count  242.000000  242.000000  242.000000  ...  242.000000  242.000000  242.000000\n",
              "mean    54.256198    0.661157    0.991736  ...    0.665289    2.285124    0.553719\n",
              "std      9.116606    0.474297    1.046598  ...    0.950842    0.615587    0.498136\n",
              "min     34.000000    0.000000    0.000000  ...    0.000000    0.000000    0.000000\n",
              "25%     47.000000    0.000000    0.000000  ...    0.000000    2.000000    0.000000\n",
              "50%     56.000000    1.000000    1.000000  ...    0.000000    2.000000    1.000000\n",
              "75%     61.000000    1.000000    2.000000  ...    1.000000    3.000000    1.000000\n",
              "max     76.000000    1.000000    3.000000  ...    4.000000    3.000000    1.000000\n",
              "\n",
              "[8 rows x 14 columns]"
            ]
          },
          "metadata": {
            "tags": []
          },
          "execution_count": 79
        }
      ]
    },
    {
      "cell_type": "markdown",
      "metadata": {
        "id": "DyVh4xlh4xPL"
      },
      "source": [
        "#### Outlier detection\n",
        "\n",
        "Outliers can be detected by looking at histograms. Do some values look like outliers, why or why not?\n",
        "\n",
        "**TODO: Make a histogram for all of the variables. For each column explain what you see and why there is or isn't outlier!**\n"
      ]
    },
    {
      "cell_type": "code",
      "metadata": {
        "colab": {
          "base_uri": "https://localhost:8080/",
          "height": 1000
        },
        "id": "O7OMMf6h4k6T",
        "outputId": "942a5c2a-4a61-4c9f-acb6-8f921027e199"
      },
      "source": [
        "### TODO: Make a histograms\n",
        "\n",
        "print(df_raw.columns)\n",
        "\n",
        "df_raw.hist(column='age')\n",
        "df_raw.hist(column='trestbps')\n",
        "df_raw.hist(column='chol')\n",
        "df_raw.hist(column='thalach')\n",
        "df_raw.hist(column='exang')\n",
        "df_raw.hist(column='oldpeak')\n",
        "df_raw.hist(column='slope')\n",
        "df_raw.hist(column='ca')\n",
        "df_raw.hist(column='thal')\n",
        "df_raw.hist(column='target')\n",
        "\n",
        "df_raw.hist(column='sex')\n",
        "df_raw.hist(column='cp')\n",
        "df_raw.hist(column='restecg')\n",
        "\n",
        "\n"
      ],
      "execution_count": null,
      "outputs": [
        {
          "output_type": "stream",
          "text": [
            "Index(['age', 'sex', 'cp', 'trestbps', 'chol', 'fbs', 'restecg', 'thalach',\n",
            "       'exang', 'oldpeak', 'slope', 'ca', 'thal', 'target'],\n",
            "      dtype='object')\n"
          ],
          "name": "stdout"
        },
        {
          "output_type": "execute_result",
          "data": {
            "text/plain": [
              "array([[<matplotlib.axes._subplots.AxesSubplot object at 0x7f01f0464710>]],\n",
              "      dtype=object)"
            ]
          },
          "metadata": {
            "tags": []
          },
          "execution_count": 80
        },
        {
          "output_type": "display_data",
          "data": {
            "image/png": "[encoded data removed]",
            "text/plain": [
              "<Figure size 432x288 with 1 Axes>"
            ]
          },
          "metadata": {
            "tags": [],
            "needs_background": "light"
          }
        },
        {
          "output_type": "display_data",
          "data": {
            "image/png": "[encoded data removed]",
            "text/plain": [
              "<Figure size 432x288 with 1 Axes>"
            ]
          },
          "metadata": {
            "tags": [],
            "needs_background": "light"
          }
        },
        {
          "output_type": "display_data",
          "data": {
            "image/png": "[encoded data removed]",
            "text/plain": [
              "<Figure size 432x288 with 1 Axes>"
            ]
          },
          "metadata": {
            "tags": [],
            "needs_background": "light"
          }
        },
        {
          "output_type": "display_data",
          "data": {
            "image/png": "[encoded data removed]",
            "text/plain": [
              "<Figure size 432x288 with 1 Axes>"
            ]
          },
          "metadata": {
            "tags": [],
            "needs_background": "light"
          }
        },
        {
          "output_type": "display_data",
          "data": {
            "image/png": "[encoded data removed]",
            "text/plain": [
              "<Figure size 432x288 with 1 Axes>"
            ]
          },
          "metadata": {
            "tags": [],
            "needs_background": "light"
          }
        },
        {
          "output_type": "display_data",
          "data": {
            "image/png": "[encoded data removed]",
            "text/plain": [
              "<Figure size 432x288 with 1 Axes>"
            ]
          },
          "metadata": {
            "tags": [],
            "needs_background": "light"
          }
        },
        {
          "output_type": "display_data",
          "data": {
            "image/png": "[encoded data removed]",
            "text/plain": [
              "<Figure size 432x288 with 1 Axes>"
            ]
          },
          "metadata": {
            "tags": [],
            "needs_background": "light"
          }
        },
        {
          "output_type": "display_data",
          "data": {
            "image/png": "[encoded data removed]",
            "text/plain": [
              "<Figure size 432x288 with 1 Axes>"
            ]
          },
          "metadata": {
            "tags": [],
            "needs_background": "light"
          }
        },
        {
          "output_type": "display_data",
          "data": {
            "image/png": "[encoded data removed]",
            "text/plain": [
              "<Figure size 432x288 with 1 Axes>"
            ]
          },
          "metadata": {
            "tags": [],
            "needs_background": "light"
          }
        },
        {
          "output_type": "display_data",
          "data": {
            "image/png": "[encoded data removed]",
            "text/plain": [
              "<Figure size 432x288 with 1 Axes>"
            ]
          },
          "metadata": {
            "tags": [],
            "needs_background": "light"
          }
        },
        {
          "output_type": "display_data",
          "data": {
            "image/png": "[encoded data removed]",
            "text/plain": [
              "<Figure size 432x288 with 1 Axes>"
            ]
          },
          "metadata": {
            "tags": [],
            "needs_background": "light"
          }
        },
        {
          "output_type": "display_data",
          "data": {
            "image/png": "[encoded data removed]",
            "text/plain": [
              "<Figure size 432x288 with 1 Axes>"
            ]
          },
          "metadata": {
            "tags": [],
            "needs_background": "light"
          }
        },
        {
          "output_type": "display_data",
          "data": {
            "image/png": "[encoded data removed]",
            "text/plain": [
              "<Figure size 432x288 with 1 Axes>"
            ]
          },
          "metadata": {
            "tags": [],
            "needs_background": "light"
          }
        }
      ]
    },
    {
      "cell_type": "markdown",
      "metadata": {
        "id": "Vq9s2ZyOn8xv"
      },
      "source": [
        "**TODO: Explain what you learned from the data examination and about what different data types are! If there were outliers also remove them! **"
      ]
    },
    {
      "cell_type": "markdown",
      "metadata": {
        "id": "Yo5A_xJk49nk"
      },
      "source": [
        "#### Missing Data\n",
        "\n"
      ]
    },
    {
      "cell_type": "markdown",
      "metadata": {
        "id": "w0sqtJM8oMJA"
      },
      "source": [
        "**TODO: Recall which columns have missing data from above! We have several option to fill in out missing data. You learned about this in the data cleaning modules so please apply that here and justify your decision.There are not necessarily right or wrong answers.**\n"
      ]
    },
    {
      "cell_type": "code",
      "metadata": {
        "id": "2tvL2ftBrB2b",
        "colab": {
          "base_uri": "https://localhost:8080/"
        },
        "outputId": "6f6d6adf-e6bb-4afc-ce84-299fae3f2417"
      },
      "source": [
        "#Do the question above!\n",
        "\n",
        "df_raw.isna().sum()\n",
        "#df_raw.interpolate()\n",
        "\n",
        "df_interpolated = df_raw.interpolate(method ='linear', limit_direction ='forward')\n",
        "#df_interpolated\n",
        "df_interpolated.isna().sum()\n",
        "\n",
        "\n",
        "\n",
        "#Reference: https://pandas.pydata.org/pandas-docs/stable/reference/api/pandas.DataFrame.interpolate.html\n",
        "# Reference: https://pandas.pydata.org/pandas-docs/stable/reference/api/pandas.DataFrame.fillna.html\n",
        "# Reference: https://www.geeksforgeeks.org/python-pandas-dataframe-interpolate/"
      ],
      "execution_count": null,
      "outputs": [
        {
          "output_type": "execute_result",
          "data": {
            "text/plain": [
              "age         0\n",
              "sex         0\n",
              "cp          0\n",
              "trestbps    0\n",
              "chol        0\n",
              "fbs         0\n",
              "restecg     0\n",
              "thalach     0\n",
              "exang       0\n",
              "oldpeak     0\n",
              "slope       0\n",
              "ca          0\n",
              "thal        0\n",
              "target      0\n",
              "dtype: int64"
            ]
          },
          "metadata": {
            "tags": []
          },
          "execution_count": 81
        }
      ]
    },
    {
      "cell_type": "code",
      "metadata": {
        "id": "9EQUZmH15DEj"
      },
      "source": [
        "#Other method Imputation\n",
        "# from sklearn.impute import KNNImputer\n",
        "# imputer = KNNImputer(weights=\"uniform\")\n",
        "# imputed = imputer.fit_transform(df_raw)\n",
        "# df_interpolated = pd.DataFrame(imputed)\n",
        "# df_interpolated.columns = df_raw.columns\n",
        "# df_interpolated['cp'].unique()"
      ],
      "execution_count": null,
      "outputs": []
    },
    {
      "cell_type": "markdown",
      "metadata": {
        "id": "GYc-boEn5CUB"
      },
      "source": [
        "#### One hot encoding\n",
        "\n",
        "Categorical Variables even when represented by numbers do not really have an order! So we have to give them their own columns to prevent the algorithms from treating them like continuous or numeric variables!  Therefore we will use a technique called one-hot-encoding to fix this!\n",
        "\n",
        "You have not covered this technique yet but you can read about it [here](https://machinelearningmastery.com/how-to-one-hot-encode-sequence-data-in-python/).\n",
        "\n",
        "I am trying to provide less and less guidance as you go so you can work on your coding and reading documentation skills! This can be challenging so of course reach out if you need help!\n",
        "\n",
        "**TODO: Follow the tutorial above to one hot encode the categorial variables!**\n",
        "\n"
      ]
    },
    {
      "cell_type": "code",
      "metadata": {
        "id": "Vr3m8ctQrWd6",
        "colab": {
          "base_uri": "https://localhost:8080/",
          "height": 243
        },
        "outputId": "86833f1b-8c28-4ff8-b7fa-dcdb7aa45f36"
      },
      "source": [
        "#TODO: one hot encode your variables\n",
        "\n",
        "cats = ['cp', 'restecg', 'slope', 'thal']\n",
        "\n",
        "#Make copy just to not delete previous df\n",
        "df_encoded = df_interpolated.copy()\n",
        "\n",
        "#Round all categorical features! (we might have interpolated it a certain way!)\n",
        "df_encoded.restecg = df_encoded.restecg.round(decimals=0)\n",
        "df_encoded.slope = df_encoded.slope.round(decimals=0)\n",
        "df_encoded.cp = df_encoded.cp.round(decimals=0)\n",
        "df_encoded.thal = df_encoded.thal.round(decimals=0)\n",
        "\n",
        "\n",
        "# Also round ca because it is only intergets\n",
        "df_encoded.ca = df_encoded.ca.round(decimals=0)\n",
        "\n",
        "\n",
        "#Function From: https://stackoverflow.com/questions/37292872/how-can-i-one-hot-encode-in-python\n",
        "def encode_and_bind(original_dataframe, feature_to_encode):\n",
        "  dummies = pd.get_dummies(original_dataframe[[feature_to_encode]])\n",
        "  res = pd.concat([original_dataframe, dummies], axis=1)\n",
        "  return(res)\n",
        "\n",
        "# # simple numeric encoding the categorical variables, the function above works for strings!\n",
        "df_encoded.cp = df_encoded.cp.replace({0:'Asympt.', 1:'Atypical', 2:'Non', 3:'Typical'})\n",
        "df_encoded.restecg = df_encoded.restecg.replace({0:'LV hyper', 1:'Normal', 2:'ST-T wave'})\n",
        "df_encoded.slope = df_encoded.slope.replace({0:'down', 1:'up', 2:'flat'})\n",
        "df_encoded.thal = df_encoded.thal.replace({0:'NA', 1:'Fixed', 2:'Normal', 3:'Reverse'})\n",
        "\n",
        "#Encode each\n",
        "df_encoded = encode_and_bind(df_encoded, 'cp')\n",
        "df_encoded = encode_and_bind(df_encoded, 'restecg')\n",
        "df_encoded = encode_and_bind(df_encoded, 'slope')\n",
        "df_encoded = encode_and_bind(df_encoded, 'thal')\n",
        "\n",
        "#Remove old columns\n",
        "df_encoded.drop(['cp', 'restecg', 'slope', 'thal'], inplace=True, axis=1)\n",
        "df_encoded.head()\n",
        "\n",
        "# eg. change chest pain into 4 different binary vars.\n",
        "# 3, 2, 1, 1, 0\n",
        "# cp_0, cp_1, cp_2, cp_3\n",
        "# 0, 0, 0, 1\n",
        "# 0, 0, 1, 0\n",
        "# 0, 1, 0, 0\n",
        "# 1, 0, 0, 0\n"
      ],
      "execution_count": null,
      "outputs": [
        {
          "output_type": "execute_result",
          "data": {
            "text/html": [
              "<div>\n",
              "<style scoped>\n",
              "    .dataframe tbody tr th:only-of-type {\n",
              "        vertical-align: middle;\n",
              "    }\n",
              "\n",
              "    .dataframe tbody tr th {\n",
              "        vertical-align: top;\n",
              "    }\n",
              "\n",
              "    .dataframe thead th {\n",
              "        text-align: right;\n",
              "    }\n",
              "</style>\n",
              "<table border=\"1\" class=\"dataframe\">\n",
              "  <thead>\n",
              "    <tr style=\"text-align: right;\">\n",
              "      <th></th>\n",
              "      <th>age</th>\n",
              "      <th>sex</th>\n",
              "      <th>trestbps</th>\n",
              "      <th>chol</th>\n",
              "      <th>fbs</th>\n",
              "      <th>thalach</th>\n",
              "      <th>exang</th>\n",
              "      <th>oldpeak</th>\n",
              "      <th>ca</th>\n",
              "      <th>target</th>\n",
              "      <th>cp_Asympt.</th>\n",
              "      <th>cp_Atypical</th>\n",
              "      <th>cp_Non</th>\n",
              "      <th>cp_Typical</th>\n",
              "      <th>restecg_LV hyper</th>\n",
              "      <th>restecg_Normal</th>\n",
              "      <th>restecg_ST-T wave</th>\n",
              "      <th>slope_down</th>\n",
              "      <th>slope_flat</th>\n",
              "      <th>slope_up</th>\n",
              "      <th>thal_Fixed</th>\n",
              "      <th>thal_NA</th>\n",
              "      <th>thal_Normal</th>\n",
              "      <th>thal_Reverse</th>\n",
              "    </tr>\n",
              "  </thead>\n",
              "  <tbody>\n",
              "    <tr>\n",
              "      <th>0</th>\n",
              "      <td>63.0</td>\n",
              "      <td>1.0</td>\n",
              "      <td>145.0</td>\n",
              "      <td>233.0</td>\n",
              "      <td>1.0</td>\n",
              "      <td>150.0</td>\n",
              "      <td>0.0</td>\n",
              "      <td>2.3</td>\n",
              "      <td>0.0</td>\n",
              "      <td>1.0</td>\n",
              "      <td>0</td>\n",
              "      <td>0</td>\n",
              "      <td>0</td>\n",
              "      <td>1</td>\n",
              "      <td>1</td>\n",
              "      <td>0</td>\n",
              "      <td>0</td>\n",
              "      <td>1</td>\n",
              "      <td>0</td>\n",
              "      <td>0</td>\n",
              "      <td>1</td>\n",
              "      <td>0</td>\n",
              "      <td>0</td>\n",
              "      <td>0</td>\n",
              "    </tr>\n",
              "    <tr>\n",
              "      <th>1</th>\n",
              "      <td>37.0</td>\n",
              "      <td>1.0</td>\n",
              "      <td>130.0</td>\n",
              "      <td>250.0</td>\n",
              "      <td>0.0</td>\n",
              "      <td>187.0</td>\n",
              "      <td>0.0</td>\n",
              "      <td>3.5</td>\n",
              "      <td>0.0</td>\n",
              "      <td>1.0</td>\n",
              "      <td>0</td>\n",
              "      <td>0</td>\n",
              "      <td>1</td>\n",
              "      <td>0</td>\n",
              "      <td>0</td>\n",
              "      <td>1</td>\n",
              "      <td>0</td>\n",
              "      <td>1</td>\n",
              "      <td>0</td>\n",
              "      <td>0</td>\n",
              "      <td>0</td>\n",
              "      <td>0</td>\n",
              "      <td>1</td>\n",
              "      <td>0</td>\n",
              "    </tr>\n",
              "    <tr>\n",
              "      <th>2</th>\n",
              "      <td>41.0</td>\n",
              "      <td>0.0</td>\n",
              "      <td>130.0</td>\n",
              "      <td>204.0</td>\n",
              "      <td>0.0</td>\n",
              "      <td>172.0</td>\n",
              "      <td>0.0</td>\n",
              "      <td>1.4</td>\n",
              "      <td>0.0</td>\n",
              "      <td>1.0</td>\n",
              "      <td>0</td>\n",
              "      <td>1</td>\n",
              "      <td>0</td>\n",
              "      <td>0</td>\n",
              "      <td>1</td>\n",
              "      <td>0</td>\n",
              "      <td>0</td>\n",
              "      <td>0</td>\n",
              "      <td>1</td>\n",
              "      <td>0</td>\n",
              "      <td>0</td>\n",
              "      <td>0</td>\n",
              "      <td>1</td>\n",
              "      <td>0</td>\n",
              "    </tr>\n",
              "    <tr>\n",
              "      <th>3</th>\n",
              "      <td>56.0</td>\n",
              "      <td>1.0</td>\n",
              "      <td>120.0</td>\n",
              "      <td>236.0</td>\n",
              "      <td>0.0</td>\n",
              "      <td>178.0</td>\n",
              "      <td>0.0</td>\n",
              "      <td>0.8</td>\n",
              "      <td>0.0</td>\n",
              "      <td>1.0</td>\n",
              "      <td>0</td>\n",
              "      <td>1</td>\n",
              "      <td>0</td>\n",
              "      <td>0</td>\n",
              "      <td>0</td>\n",
              "      <td>1</td>\n",
              "      <td>0</td>\n",
              "      <td>0</td>\n",
              "      <td>1</td>\n",
              "      <td>0</td>\n",
              "      <td>0</td>\n",
              "      <td>0</td>\n",
              "      <td>1</td>\n",
              "      <td>0</td>\n",
              "    </tr>\n",
              "    <tr>\n",
              "      <th>4</th>\n",
              "      <td>57.0</td>\n",
              "      <td>0.0</td>\n",
              "      <td>130.0</td>\n",
              "      <td>354.0</td>\n",
              "      <td>0.0</td>\n",
              "      <td>163.0</td>\n",
              "      <td>1.0</td>\n",
              "      <td>0.6</td>\n",
              "      <td>0.0</td>\n",
              "      <td>1.0</td>\n",
              "      <td>1</td>\n",
              "      <td>0</td>\n",
              "      <td>0</td>\n",
              "      <td>0</td>\n",
              "      <td>0</td>\n",
              "      <td>1</td>\n",
              "      <td>0</td>\n",
              "      <td>0</td>\n",
              "      <td>1</td>\n",
              "      <td>0</td>\n",
              "      <td>0</td>\n",
              "      <td>0</td>\n",
              "      <td>1</td>\n",
              "      <td>0</td>\n",
              "    </tr>\n",
              "  </tbody>\n",
              "</table>\n",
              "</div>"
            ],
            "text/plain": [
              "    age  sex  trestbps   chol  ...  thal_Fixed  thal_NA  thal_Normal  thal_Reverse\n",
              "0  63.0  1.0     145.0  233.0  ...           1        0            0             0\n",
              "1  37.0  1.0     130.0  250.0  ...           0        0            1             0\n",
              "2  41.0  0.0     130.0  204.0  ...           0        0            1             0\n",
              "3  56.0  1.0     120.0  236.0  ...           0        0            1             0\n",
              "4  57.0  0.0     130.0  354.0  ...           0        0            1             0\n",
              "\n",
              "[5 rows x 24 columns]"
            ]
          },
          "metadata": {
            "tags": []
          },
          "execution_count": 83
        }
      ]
    },
    {
      "cell_type": "markdown",
      "metadata": {
        "id": "CooX_sOX5E-u"
      },
      "source": [
        "#### Normalization\n",
        "\n",
        "We will cover 2 types of normalization, min-max and z-score.\n",
        "\n",
        "1. Read (this)[https://towardsai.net/p/data-science/how-when-and-why-should-you-normalize-standardize-rescale-your-data-3f083def38ff] which tells you why we normalize. Also read [this](https://www.codecademy.com/articles/normalization) to learn about z-score normalization\n",
        "2. Read the documentation from sklearn for (min-max)[https://scikit-learn.org/stable/modules/generated/sklearn.preprocessing.MinMaxScaler.html] and (z-score)[https://scikit-learn.org/stable/modules/generated/sklearn.preprocessing.StandardScaler.html] normalization\n",
        "\n",
        "If you get stuck try reading (this)[https://towardsdatascience.com/data-normalization-with-pandas-and-scikit-learn-7c1cc6ed6475]\n",
        "\n",
        "**TODO: normalize all the data with both z-score and with min-max. Think about which method of normalizing is better and write about which one you will pick to use for your analysis**"
      ]
    },
    {
      "cell_type": "code",
      "metadata": {
        "id": "JPx9UKjvuifm",
        "colab": {
          "base_uri": "https://localhost:8080/",
          "height": 461
        },
        "outputId": "96bdf1a5-3780-493e-8e15-82aa3c8e3d86"
      },
      "source": [
        "# TODO: Do above\n",
        "\n",
        "from sklearn.preprocessing import MinMaxScaler, StandardScaler #StandardScaler is another word for z-score\n",
        "\n",
        "toNorm = df_encoded[df_encoded.columns.drop('target')]\n",
        "\n",
        "#Adapted from: https://towardsdatascience.com/data-normalization-with-pandas-and-scikit-learn-7c1cc6ed6475\n",
        "mm_scaler_ = MinMaxScaler()\n",
        "df_minmax = pd.DataFrame(mm_scaler_.fit_transform(toNorm), columns=toNorm.columns)\n",
        "df_minmax['target'] = df_encoded['target']\n",
        "df_minmax\n",
        "\n"
      ],
      "execution_count": null,
      "outputs": [
        {
          "output_type": "execute_result",
          "data": {
            "text/html": [
              "<div>\n",
              "<style scoped>\n",
              "    .dataframe tbody tr th:only-of-type {\n",
              "        vertical-align: middle;\n",
              "    }\n",
              "\n",
              "    .dataframe tbody tr th {\n",
              "        vertical-align: top;\n",
              "    }\n",
              "\n",
              "    .dataframe thead th {\n",
              "        text-align: right;\n",
              "    }\n",
              "</style>\n",
              "<table border=\"1\" class=\"dataframe\">\n",
              "  <thead>\n",
              "    <tr style=\"text-align: right;\">\n",
              "      <th></th>\n",
              "      <th>age</th>\n",
              "      <th>sex</th>\n",
              "      <th>trestbps</th>\n",
              "      <th>chol</th>\n",
              "      <th>fbs</th>\n",
              "      <th>thalach</th>\n",
              "      <th>exang</th>\n",
              "      <th>oldpeak</th>\n",
              "      <th>ca</th>\n",
              "      <th>cp_Asympt.</th>\n",
              "      <th>cp_Atypical</th>\n",
              "      <th>cp_Non</th>\n",
              "      <th>cp_Typical</th>\n",
              "      <th>restecg_LV hyper</th>\n",
              "      <th>restecg_Normal</th>\n",
              "      <th>restecg_ST-T wave</th>\n",
              "      <th>slope_down</th>\n",
              "      <th>slope_flat</th>\n",
              "      <th>slope_up</th>\n",
              "      <th>thal_Fixed</th>\n",
              "      <th>thal_NA</th>\n",
              "      <th>thal_Normal</th>\n",
              "      <th>thal_Reverse</th>\n",
              "      <th>target</th>\n",
              "    </tr>\n",
              "  </thead>\n",
              "  <tbody>\n",
              "    <tr>\n",
              "      <th>0</th>\n",
              "      <td>0.690476</td>\n",
              "      <td>1.0</td>\n",
              "      <td>0.481132</td>\n",
              "      <td>0.367698</td>\n",
              "      <td>1.0</td>\n",
              "      <td>0.642276</td>\n",
              "      <td>0.0</td>\n",
              "      <td>0.370968</td>\n",
              "      <td>0.00</td>\n",
              "      <td>0.0</td>\n",
              "      <td>0.0</td>\n",
              "      <td>0.0</td>\n",
              "      <td>1.0</td>\n",
              "      <td>1.0</td>\n",
              "      <td>0.0</td>\n",
              "      <td>0.0</td>\n",
              "      <td>1.0</td>\n",
              "      <td>0.0</td>\n",
              "      <td>0.0</td>\n",
              "      <td>1.0</td>\n",
              "      <td>0.0</td>\n",
              "      <td>0.0</td>\n",
              "      <td>0.0</td>\n",
              "      <td>1.0</td>\n",
              "    </tr>\n",
              "    <tr>\n",
              "      <th>1</th>\n",
              "      <td>0.071429</td>\n",
              "      <td>1.0</td>\n",
              "      <td>0.339623</td>\n",
              "      <td>0.426117</td>\n",
              "      <td>0.0</td>\n",
              "      <td>0.943089</td>\n",
              "      <td>0.0</td>\n",
              "      <td>0.564516</td>\n",
              "      <td>0.00</td>\n",
              "      <td>0.0</td>\n",
              "      <td>0.0</td>\n",
              "      <td>1.0</td>\n",
              "      <td>0.0</td>\n",
              "      <td>0.0</td>\n",
              "      <td>1.0</td>\n",
              "      <td>0.0</td>\n",
              "      <td>1.0</td>\n",
              "      <td>0.0</td>\n",
              "      <td>0.0</td>\n",
              "      <td>0.0</td>\n",
              "      <td>0.0</td>\n",
              "      <td>1.0</td>\n",
              "      <td>0.0</td>\n",
              "      <td>1.0</td>\n",
              "    </tr>\n",
              "    <tr>\n",
              "      <th>2</th>\n",
              "      <td>0.166667</td>\n",
              "      <td>0.0</td>\n",
              "      <td>0.339623</td>\n",
              "      <td>0.268041</td>\n",
              "      <td>0.0</td>\n",
              "      <td>0.821138</td>\n",
              "      <td>0.0</td>\n",
              "      <td>0.225806</td>\n",
              "      <td>0.00</td>\n",
              "      <td>0.0</td>\n",
              "      <td>1.0</td>\n",
              "      <td>0.0</td>\n",
              "      <td>0.0</td>\n",
              "      <td>1.0</td>\n",
              "      <td>0.0</td>\n",
              "      <td>0.0</td>\n",
              "      <td>0.0</td>\n",
              "      <td>1.0</td>\n",
              "      <td>0.0</td>\n",
              "      <td>0.0</td>\n",
              "      <td>0.0</td>\n",
              "      <td>1.0</td>\n",
              "      <td>0.0</td>\n",
              "      <td>1.0</td>\n",
              "    </tr>\n",
              "    <tr>\n",
              "      <th>3</th>\n",
              "      <td>0.523810</td>\n",
              "      <td>1.0</td>\n",
              "      <td>0.245283</td>\n",
              "      <td>0.378007</td>\n",
              "      <td>0.0</td>\n",
              "      <td>0.869919</td>\n",
              "      <td>0.0</td>\n",
              "      <td>0.129032</td>\n",
              "      <td>0.00</td>\n",
              "      <td>0.0</td>\n",
              "      <td>1.0</td>\n",
              "      <td>0.0</td>\n",
              "      <td>0.0</td>\n",
              "      <td>0.0</td>\n",
              "      <td>1.0</td>\n",
              "      <td>0.0</td>\n",
              "      <td>0.0</td>\n",
              "      <td>1.0</td>\n",
              "      <td>0.0</td>\n",
              "      <td>0.0</td>\n",
              "      <td>0.0</td>\n",
              "      <td>1.0</td>\n",
              "      <td>0.0</td>\n",
              "      <td>1.0</td>\n",
              "    </tr>\n",
              "    <tr>\n",
              "      <th>4</th>\n",
              "      <td>0.547619</td>\n",
              "      <td>0.0</td>\n",
              "      <td>0.339623</td>\n",
              "      <td>0.783505</td>\n",
              "      <td>0.0</td>\n",
              "      <td>0.747967</td>\n",
              "      <td>1.0</td>\n",
              "      <td>0.096774</td>\n",
              "      <td>0.00</td>\n",
              "      <td>1.0</td>\n",
              "      <td>0.0</td>\n",
              "      <td>0.0</td>\n",
              "      <td>0.0</td>\n",
              "      <td>0.0</td>\n",
              "      <td>1.0</td>\n",
              "      <td>0.0</td>\n",
              "      <td>0.0</td>\n",
              "      <td>1.0</td>\n",
              "      <td>0.0</td>\n",
              "      <td>0.0</td>\n",
              "      <td>0.0</td>\n",
              "      <td>1.0</td>\n",
              "      <td>0.0</td>\n",
              "      <td>1.0</td>\n",
              "    </tr>\n",
              "    <tr>\n",
              "      <th>...</th>\n",
              "      <td>...</td>\n",
              "      <td>...</td>\n",
              "      <td>...</td>\n",
              "      <td>...</td>\n",
              "      <td>...</td>\n",
              "      <td>...</td>\n",
              "      <td>...</td>\n",
              "      <td>...</td>\n",
              "      <td>...</td>\n",
              "      <td>...</td>\n",
              "      <td>...</td>\n",
              "      <td>...</td>\n",
              "      <td>...</td>\n",
              "      <td>...</td>\n",
              "      <td>...</td>\n",
              "      <td>...</td>\n",
              "      <td>...</td>\n",
              "      <td>...</td>\n",
              "      <td>...</td>\n",
              "      <td>...</td>\n",
              "      <td>...</td>\n",
              "      <td>...</td>\n",
              "      <td>...</td>\n",
              "      <td>...</td>\n",
              "    </tr>\n",
              "    <tr>\n",
              "      <th>238</th>\n",
              "      <td>0.547619</td>\n",
              "      <td>0.0</td>\n",
              "      <td>0.433962</td>\n",
              "      <td>0.395189</td>\n",
              "      <td>0.0</td>\n",
              "      <td>0.422764</td>\n",
              "      <td>1.0</td>\n",
              "      <td>0.032258</td>\n",
              "      <td>0.00</td>\n",
              "      <td>1.0</td>\n",
              "      <td>0.0</td>\n",
              "      <td>0.0</td>\n",
              "      <td>0.0</td>\n",
              "      <td>0.0</td>\n",
              "      <td>1.0</td>\n",
              "      <td>0.0</td>\n",
              "      <td>0.0</td>\n",
              "      <td>0.0</td>\n",
              "      <td>1.0</td>\n",
              "      <td>0.0</td>\n",
              "      <td>0.0</td>\n",
              "      <td>0.0</td>\n",
              "      <td>1.0</td>\n",
              "      <td>0.0</td>\n",
              "    </tr>\n",
              "    <tr>\n",
              "      <th>239</th>\n",
              "      <td>0.261905</td>\n",
              "      <td>1.0</td>\n",
              "      <td>0.150943</td>\n",
              "      <td>0.474227</td>\n",
              "      <td>0.0</td>\n",
              "      <td>0.495935</td>\n",
              "      <td>0.0</td>\n",
              "      <td>0.193548</td>\n",
              "      <td>0.00</td>\n",
              "      <td>0.0</td>\n",
              "      <td>0.0</td>\n",
              "      <td>0.0</td>\n",
              "      <td>1.0</td>\n",
              "      <td>0.0</td>\n",
              "      <td>1.0</td>\n",
              "      <td>0.0</td>\n",
              "      <td>0.0</td>\n",
              "      <td>0.0</td>\n",
              "      <td>1.0</td>\n",
              "      <td>0.0</td>\n",
              "      <td>0.0</td>\n",
              "      <td>0.0</td>\n",
              "      <td>1.0</td>\n",
              "      <td>0.0</td>\n",
              "    </tr>\n",
              "    <tr>\n",
              "      <th>240</th>\n",
              "      <td>0.809524</td>\n",
              "      <td>1.0</td>\n",
              "      <td>0.471698</td>\n",
              "      <td>0.230241</td>\n",
              "      <td>1.0</td>\n",
              "      <td>0.569106</td>\n",
              "      <td>0.0</td>\n",
              "      <td>0.548387</td>\n",
              "      <td>0.50</td>\n",
              "      <td>1.0</td>\n",
              "      <td>0.0</td>\n",
              "      <td>0.0</td>\n",
              "      <td>0.0</td>\n",
              "      <td>0.0</td>\n",
              "      <td>1.0</td>\n",
              "      <td>0.0</td>\n",
              "      <td>0.0</td>\n",
              "      <td>0.0</td>\n",
              "      <td>1.0</td>\n",
              "      <td>0.0</td>\n",
              "      <td>0.0</td>\n",
              "      <td>0.0</td>\n",
              "      <td>1.0</td>\n",
              "      <td>0.0</td>\n",
              "    </tr>\n",
              "    <tr>\n",
              "      <th>241</th>\n",
              "      <td>0.547619</td>\n",
              "      <td>1.0</td>\n",
              "      <td>0.339623</td>\n",
              "      <td>0.017182</td>\n",
              "      <td>0.0</td>\n",
              "      <td>0.357724</td>\n",
              "      <td>1.0</td>\n",
              "      <td>0.193548</td>\n",
              "      <td>0.25</td>\n",
              "      <td>1.0</td>\n",
              "      <td>0.0</td>\n",
              "      <td>0.0</td>\n",
              "      <td>0.0</td>\n",
              "      <td>0.0</td>\n",
              "      <td>1.0</td>\n",
              "      <td>0.0</td>\n",
              "      <td>0.0</td>\n",
              "      <td>0.0</td>\n",
              "      <td>1.0</td>\n",
              "      <td>0.0</td>\n",
              "      <td>0.0</td>\n",
              "      <td>0.0</td>\n",
              "      <td>1.0</td>\n",
              "      <td>0.0</td>\n",
              "    </tr>\n",
              "    <tr>\n",
              "      <th>242</th>\n",
              "      <td>0.547619</td>\n",
              "      <td>0.0</td>\n",
              "      <td>0.339623</td>\n",
              "      <td>0.378007</td>\n",
              "      <td>0.0</td>\n",
              "      <td>0.837398</td>\n",
              "      <td>0.0</td>\n",
              "      <td>0.000000</td>\n",
              "      <td>0.25</td>\n",
              "      <td>0.0</td>\n",
              "      <td>1.0</td>\n",
              "      <td>0.0</td>\n",
              "      <td>0.0</td>\n",
              "      <td>1.0</td>\n",
              "      <td>0.0</td>\n",
              "      <td>0.0</td>\n",
              "      <td>0.0</td>\n",
              "      <td>0.0</td>\n",
              "      <td>1.0</td>\n",
              "      <td>0.0</td>\n",
              "      <td>0.0</td>\n",
              "      <td>1.0</td>\n",
              "      <td>0.0</td>\n",
              "      <td>0.0</td>\n",
              "    </tr>\n",
              "  </tbody>\n",
              "</table>\n",
              "<p>243 rows × 24 columns</p>\n",
              "</div>"
            ],
            "text/plain": [
              "          age  sex  trestbps  ...  thal_Normal  thal_Reverse  target\n",
              "0    0.690476  1.0  0.481132  ...          0.0           0.0     1.0\n",
              "1    0.071429  1.0  0.339623  ...          1.0           0.0     1.0\n",
              "2    0.166667  0.0  0.339623  ...          1.0           0.0     1.0\n",
              "3    0.523810  1.0  0.245283  ...          1.0           0.0     1.0\n",
              "4    0.547619  0.0  0.339623  ...          1.0           0.0     1.0\n",
              "..        ...  ...       ...  ...          ...           ...     ...\n",
              "238  0.547619  0.0  0.433962  ...          0.0           1.0     0.0\n",
              "239  0.261905  1.0  0.150943  ...          0.0           1.0     0.0\n",
              "240  0.809524  1.0  0.471698  ...          0.0           1.0     0.0\n",
              "241  0.547619  1.0  0.339623  ...          0.0           1.0     0.0\n",
              "242  0.547619  0.0  0.339623  ...          1.0           0.0     0.0\n",
              "\n",
              "[243 rows x 24 columns]"
            ]
          },
          "metadata": {
            "tags": []
          },
          "execution_count": 84
        }
      ]
    },
    {
      "cell_type": "code",
      "metadata": {
        "colab": {
          "base_uri": "https://localhost:8080/",
          "height": 461
        },
        "id": "CIZAJVLu7LhG",
        "outputId": "651e3fb2-2fdf-4481-b17e-a5f4e158f45e"
      },
      "source": [
        "#Standard scaling\n",
        "std_scaler = StandardScaler()\n",
        "df_zscore = pd.DataFrame(std_scaler.fit_transform(toNorm), columns=toNorm.columns)\n",
        "df_zscore['target'] = df_encoded['target']\n",
        "df_zscore"
      ],
      "execution_count": null,
      "outputs": [
        {
          "output_type": "execute_result",
          "data": {
            "text/html": [
              "<div>\n",
              "<style scoped>\n",
              "    .dataframe tbody tr th:only-of-type {\n",
              "        vertical-align: middle;\n",
              "    }\n",
              "\n",
              "    .dataframe tbody tr th {\n",
              "        vertical-align: top;\n",
              "    }\n",
              "\n",
              "    .dataframe thead th {\n",
              "        text-align: right;\n",
              "    }\n",
              "</style>\n",
              "<table border=\"1\" class=\"dataframe\">\n",
              "  <thead>\n",
              "    <tr style=\"text-align: right;\">\n",
              "      <th></th>\n",
              "      <th>age</th>\n",
              "      <th>sex</th>\n",
              "      <th>trestbps</th>\n",
              "      <th>chol</th>\n",
              "      <th>fbs</th>\n",
              "      <th>thalach</th>\n",
              "      <th>exang</th>\n",
              "      <th>oldpeak</th>\n",
              "      <th>ca</th>\n",
              "      <th>cp_Asympt.</th>\n",
              "      <th>cp_Atypical</th>\n",
              "      <th>cp_Non</th>\n",
              "      <th>cp_Typical</th>\n",
              "      <th>restecg_LV hyper</th>\n",
              "      <th>restecg_Normal</th>\n",
              "      <th>restecg_ST-T wave</th>\n",
              "      <th>slope_down</th>\n",
              "      <th>slope_flat</th>\n",
              "      <th>slope_up</th>\n",
              "      <th>thal_Fixed</th>\n",
              "      <th>thal_NA</th>\n",
              "      <th>thal_Normal</th>\n",
              "      <th>thal_Reverse</th>\n",
              "      <th>target</th>\n",
              "    </tr>\n",
              "  </thead>\n",
              "  <tbody>\n",
              "    <tr>\n",
              "      <th>0</th>\n",
              "      <td>0.964443</td>\n",
              "      <td>0.718601</td>\n",
              "      <td>0.787422</td>\n",
              "      <td>-0.175449</td>\n",
              "      <td>2.437798</td>\n",
              "      <td>0.001837</td>\n",
              "      <td>-0.668153</td>\n",
              "      <td>1.012774</td>\n",
              "      <td>-0.698983</td>\n",
              "      <td>-0.932325</td>\n",
              "      <td>-0.430541</td>\n",
              "      <td>-0.648886</td>\n",
              "      <td>3.339162</td>\n",
              "      <td>1.063757</td>\n",
              "      <td>-1.029234</td>\n",
              "      <td>-0.129369</td>\n",
              "      <td>3.339162</td>\n",
              "      <td>-0.971597</td>\n",
              "      <td>-0.872278</td>\n",
              "      <td>3.898718</td>\n",
              "      <td>-0.091098</td>\n",
              "      <td>-1.146423</td>\n",
              "      <td>-0.753487</td>\n",
              "      <td>1.0</td>\n",
              "    </tr>\n",
              "    <tr>\n",
              "      <th>1</th>\n",
              "      <td>-1.898301</td>\n",
              "      <td>0.718601</td>\n",
              "      <td>-0.101170</td>\n",
              "      <td>0.176386</td>\n",
              "      <td>-0.410206</td>\n",
              "      <td>1.653786</td>\n",
              "      <td>-0.668153</td>\n",
              "      <td>2.019678</td>\n",
              "      <td>-0.698983</td>\n",
              "      <td>-0.932325</td>\n",
              "      <td>-0.430541</td>\n",
              "      <td>1.541104</td>\n",
              "      <td>-0.299476</td>\n",
              "      <td>-0.940064</td>\n",
              "      <td>0.971597</td>\n",
              "      <td>-0.129369</td>\n",
              "      <td>3.339162</td>\n",
              "      <td>-0.971597</td>\n",
              "      <td>-0.872278</td>\n",
              "      <td>-0.256495</td>\n",
              "      <td>-0.091098</td>\n",
              "      <td>0.872278</td>\n",
              "      <td>-0.753487</td>\n",
              "      <td>1.0</td>\n",
              "    </tr>\n",
              "    <tr>\n",
              "      <th>2</th>\n",
              "      <td>-1.457879</td>\n",
              "      <td>-1.398006</td>\n",
              "      <td>-0.101170</td>\n",
              "      <td>-0.775640</td>\n",
              "      <td>-0.410206</td>\n",
              "      <td>0.984077</td>\n",
              "      <td>-0.668153</td>\n",
              "      <td>0.257596</td>\n",
              "      <td>-0.698983</td>\n",
              "      <td>-0.932325</td>\n",
              "      <td>2.322657</td>\n",
              "      <td>-0.648886</td>\n",
              "      <td>-0.299476</td>\n",
              "      <td>1.063757</td>\n",
              "      <td>-1.029234</td>\n",
              "      <td>-0.129369</td>\n",
              "      <td>-0.299476</td>\n",
              "      <td>1.029234</td>\n",
              "      <td>-0.872278</td>\n",
              "      <td>-0.256495</td>\n",
              "      <td>-0.091098</td>\n",
              "      <td>0.872278</td>\n",
              "      <td>-0.753487</td>\n",
              "      <td>1.0</td>\n",
              "    </tr>\n",
              "    <tr>\n",
              "      <th>3</th>\n",
              "      <td>0.193704</td>\n",
              "      <td>0.718601</td>\n",
              "      <td>-0.693565</td>\n",
              "      <td>-0.113361</td>\n",
              "      <td>-0.410206</td>\n",
              "      <td>1.251961</td>\n",
              "      <td>-0.668153</td>\n",
              "      <td>-0.245856</td>\n",
              "      <td>-0.698983</td>\n",
              "      <td>-0.932325</td>\n",
              "      <td>2.322657</td>\n",
              "      <td>-0.648886</td>\n",
              "      <td>-0.299476</td>\n",
              "      <td>-0.940064</td>\n",
              "      <td>0.971597</td>\n",
              "      <td>-0.129369</td>\n",
              "      <td>-0.299476</td>\n",
              "      <td>1.029234</td>\n",
              "      <td>-0.872278</td>\n",
              "      <td>-0.256495</td>\n",
              "      <td>-0.091098</td>\n",
              "      <td>0.872278</td>\n",
              "      <td>-0.753487</td>\n",
              "      <td>1.0</td>\n",
              "    </tr>\n",
              "    <tr>\n",
              "      <th>4</th>\n",
              "      <td>0.303810</td>\n",
              "      <td>-1.398006</td>\n",
              "      <td>-0.101170</td>\n",
              "      <td>2.328794</td>\n",
              "      <td>-0.410206</td>\n",
              "      <td>0.582252</td>\n",
              "      <td>1.496663</td>\n",
              "      <td>-0.413673</td>\n",
              "      <td>-0.698983</td>\n",
              "      <td>1.072587</td>\n",
              "      <td>-0.430541</td>\n",
              "      <td>-0.648886</td>\n",
              "      <td>-0.299476</td>\n",
              "      <td>-0.940064</td>\n",
              "      <td>0.971597</td>\n",
              "      <td>-0.129369</td>\n",
              "      <td>-0.299476</td>\n",
              "      <td>1.029234</td>\n",
              "      <td>-0.872278</td>\n",
              "      <td>-0.256495</td>\n",
              "      <td>-0.091098</td>\n",
              "      <td>0.872278</td>\n",
              "      <td>-0.753487</td>\n",
              "      <td>1.0</td>\n",
              "    </tr>\n",
              "    <tr>\n",
              "      <th>...</th>\n",
              "      <td>...</td>\n",
              "      <td>...</td>\n",
              "      <td>...</td>\n",
              "      <td>...</td>\n",
              "      <td>...</td>\n",
              "      <td>...</td>\n",
              "      <td>...</td>\n",
              "      <td>...</td>\n",
              "      <td>...</td>\n",
              "      <td>...</td>\n",
              "      <td>...</td>\n",
              "      <td>...</td>\n",
              "      <td>...</td>\n",
              "      <td>...</td>\n",
              "      <td>...</td>\n",
              "      <td>...</td>\n",
              "      <td>...</td>\n",
              "      <td>...</td>\n",
              "      <td>...</td>\n",
              "      <td>...</td>\n",
              "      <td>...</td>\n",
              "      <td>...</td>\n",
              "      <td>...</td>\n",
              "      <td>...</td>\n",
              "    </tr>\n",
              "    <tr>\n",
              "      <th>238</th>\n",
              "      <td>0.303810</td>\n",
              "      <td>-1.398006</td>\n",
              "      <td>0.491225</td>\n",
              "      <td>-0.009880</td>\n",
              "      <td>-0.410206</td>\n",
              "      <td>-1.203639</td>\n",
              "      <td>1.496663</td>\n",
              "      <td>-0.749308</td>\n",
              "      <td>-0.698983</td>\n",
              "      <td>1.072587</td>\n",
              "      <td>-0.430541</td>\n",
              "      <td>-0.648886</td>\n",
              "      <td>-0.299476</td>\n",
              "      <td>-0.940064</td>\n",
              "      <td>0.971597</td>\n",
              "      <td>-0.129369</td>\n",
              "      <td>-0.299476</td>\n",
              "      <td>-0.971597</td>\n",
              "      <td>1.146423</td>\n",
              "      <td>-0.256495</td>\n",
              "      <td>-0.091098</td>\n",
              "      <td>-1.146423</td>\n",
              "      <td>1.327164</td>\n",
              "      <td>0.0</td>\n",
              "    </tr>\n",
              "    <tr>\n",
              "      <th>239</th>\n",
              "      <td>-1.017457</td>\n",
              "      <td>0.718601</td>\n",
              "      <td>-1.285960</td>\n",
              "      <td>0.466134</td>\n",
              "      <td>-0.410206</td>\n",
              "      <td>-0.801813</td>\n",
              "      <td>-0.668153</td>\n",
              "      <td>0.089779</td>\n",
              "      <td>-0.698983</td>\n",
              "      <td>-0.932325</td>\n",
              "      <td>-0.430541</td>\n",
              "      <td>-0.648886</td>\n",
              "      <td>3.339162</td>\n",
              "      <td>-0.940064</td>\n",
              "      <td>0.971597</td>\n",
              "      <td>-0.129369</td>\n",
              "      <td>-0.299476</td>\n",
              "      <td>-0.971597</td>\n",
              "      <td>1.146423</td>\n",
              "      <td>-0.256495</td>\n",
              "      <td>-0.091098</td>\n",
              "      <td>-1.146423</td>\n",
              "      <td>1.327164</td>\n",
              "      <td>0.0</td>\n",
              "    </tr>\n",
              "    <tr>\n",
              "      <th>240</th>\n",
              "      <td>1.514971</td>\n",
              "      <td>0.718601</td>\n",
              "      <td>0.728182</td>\n",
              "      <td>-1.003299</td>\n",
              "      <td>2.437798</td>\n",
              "      <td>-0.399988</td>\n",
              "      <td>-0.668153</td>\n",
              "      <td>1.935769</td>\n",
              "      <td>1.410991</td>\n",
              "      <td>1.072587</td>\n",
              "      <td>-0.430541</td>\n",
              "      <td>-0.648886</td>\n",
              "      <td>-0.299476</td>\n",
              "      <td>-0.940064</td>\n",
              "      <td>0.971597</td>\n",
              "      <td>-0.129369</td>\n",
              "      <td>-0.299476</td>\n",
              "      <td>-0.971597</td>\n",
              "      <td>1.146423</td>\n",
              "      <td>-0.256495</td>\n",
              "      <td>-0.091098</td>\n",
              "      <td>-1.146423</td>\n",
              "      <td>1.327164</td>\n",
              "      <td>0.0</td>\n",
              "    </tr>\n",
              "    <tr>\n",
              "      <th>241</th>\n",
              "      <td>0.303810</td>\n",
              "      <td>0.718601</td>\n",
              "      <td>-0.101170</td>\n",
              "      <td>-2.286464</td>\n",
              "      <td>-0.410206</td>\n",
              "      <td>-1.560817</td>\n",
              "      <td>1.496663</td>\n",
              "      <td>0.089779</td>\n",
              "      <td>0.356004</td>\n",
              "      <td>1.072587</td>\n",
              "      <td>-0.430541</td>\n",
              "      <td>-0.648886</td>\n",
              "      <td>-0.299476</td>\n",
              "      <td>-0.940064</td>\n",
              "      <td>0.971597</td>\n",
              "      <td>-0.129369</td>\n",
              "      <td>-0.299476</td>\n",
              "      <td>-0.971597</td>\n",
              "      <td>1.146423</td>\n",
              "      <td>-0.256495</td>\n",
              "      <td>-0.091098</td>\n",
              "      <td>-1.146423</td>\n",
              "      <td>1.327164</td>\n",
              "      <td>0.0</td>\n",
              "    </tr>\n",
              "    <tr>\n",
              "      <th>242</th>\n",
              "      <td>0.303810</td>\n",
              "      <td>-1.398006</td>\n",
              "      <td>-0.101170</td>\n",
              "      <td>-0.113361</td>\n",
              "      <td>-0.410206</td>\n",
              "      <td>1.073372</td>\n",
              "      <td>-0.668153</td>\n",
              "      <td>-0.917125</td>\n",
              "      <td>0.356004</td>\n",
              "      <td>-0.932325</td>\n",
              "      <td>2.322657</td>\n",
              "      <td>-0.648886</td>\n",
              "      <td>-0.299476</td>\n",
              "      <td>1.063757</td>\n",
              "      <td>-1.029234</td>\n",
              "      <td>-0.129369</td>\n",
              "      <td>-0.299476</td>\n",
              "      <td>-0.971597</td>\n",
              "      <td>1.146423</td>\n",
              "      <td>-0.256495</td>\n",
              "      <td>-0.091098</td>\n",
              "      <td>0.872278</td>\n",
              "      <td>-0.753487</td>\n",
              "      <td>0.0</td>\n",
              "    </tr>\n",
              "  </tbody>\n",
              "</table>\n",
              "<p>243 rows × 24 columns</p>\n",
              "</div>"
            ],
            "text/plain": [
              "          age       sex  trestbps  ...  thal_Normal  thal_Reverse  target\n",
              "0    0.964443  0.718601  0.787422  ...    -1.146423     -0.753487     1.0\n",
              "1   -1.898301  0.718601 -0.101170  ...     0.872278     -0.753487     1.0\n",
              "2   -1.457879 -1.398006 -0.101170  ...     0.872278     -0.753487     1.0\n",
              "3    0.193704  0.718601 -0.693565  ...     0.872278     -0.753487     1.0\n",
              "4    0.303810 -1.398006 -0.101170  ...     0.872278     -0.753487     1.0\n",
              "..        ...       ...       ...  ...          ...           ...     ...\n",
              "238  0.303810 -1.398006  0.491225  ...    -1.146423      1.327164     0.0\n",
              "239 -1.017457  0.718601 -1.285960  ...    -1.146423      1.327164     0.0\n",
              "240  1.514971  0.718601  0.728182  ...    -1.146423      1.327164     0.0\n",
              "241  0.303810  0.718601 -0.101170  ...    -1.146423      1.327164     0.0\n",
              "242  0.303810 -1.398006 -0.101170  ...     0.872278     -0.753487     0.0\n",
              "\n",
              "[243 rows x 24 columns]"
            ]
          },
          "metadata": {
            "tags": []
          },
          "execution_count": 85
        }
      ]
    },
    {
      "cell_type": "markdown",
      "metadata": {
        "id": "hpNdZ1koukUD"
      },
      "source": [
        "**TODO: This is a very minimal pipeline, using what you know so far explain what else could we do to clean the data? What different methods might you choose for the steps we did do and why? **"
      ]
    },
    {
      "cell_type": "markdown",
      "metadata": {
        "id": "b2wa9lLB6xsA"
      },
      "source": [
        "### Step 2: Feature Selection\n",
        "\n",
        "\n",
        "Feature selection is one of the most important steps. Assumptions met or not met here can entirely change your results!\n",
        "\n",
        "Read [this](https://towardsdatascience.com/the-5-feature-selection-algorithms-every-data-scientist-need-to-know-3a6b566efd2)\n",
        "\n",
        "Finish these kaggle modules:\n",
        "1. (Intermediate Machine Learning)[https://www.kaggle.com/learn/intermediate-machine-learning]\n",
        "2. (Feature Engineering)[https://www.kaggle.com/learn/feature-engineering]\n"
      ]
    },
    {
      "cell_type": "markdown",
      "metadata": {
        "id": "WkqsmonMvUJ8"
      },
      "source": [
        "I am providing less and less guideance so you can really get practise with actually making important decisions in your pipeline. Do your best to choose the features from your normalized and cleaned data that you think will make sense for our question. Explain yourself as you go, and justify your answers.\n",
        "\n",
        "One important concept is correlation. You can read about it [here](https://medium.com/analytics-vidhya/what-is-correlation-4fe0c6fbed47).\n",
        "\n",
        "**TODO: Explain why correlation matters, what does it mean for our model? **\n",
        "\n",
        "GridCV --> automatically uses all variables to get a good model https://scikit-learn.org/stable/modules/generated/sklearn.model_selection.GridSearchCV.html\n",
        "\n"
      ]
    },
    {
      "cell_type": "code",
      "metadata": {
        "colab": {
          "base_uri": "https://localhost:8080/",
          "height": 921
        },
        "id": "OAiPrwCtwMIT",
        "outputId": "0e6e78b5-7a32-44e9-a319-3118c19a9e34"
      },
      "source": [
        "#Example of correlation plot\n",
        "sns.pairplot(df_zscore[nums])"
      ],
      "execution_count": null,
      "outputs": [
        {
          "output_type": "execute_result",
          "data": {
            "text/plain": [
              "<seaborn.axisgrid.PairGrid at 0x7f01f0336890>"
            ]
          },
          "metadata": {
            "tags": []
          },
          "execution_count": 86
        },
        {
          "output_type": "display_data",
          "data": {
            "image/png": "[encoded data removed]",
            "text/plain": [
              "<Figure size 900x900 with 30 Axes>"
            ]
          },
          "metadata": {
            "tags": [],
            "needs_background": "light"
          }
        }
      ]
    },
    {
      "cell_type": "code",
      "metadata": {
        "colab": {
          "base_uri": "https://localhost:8080/",
          "height": 206
        },
        "id": "vB9Ui5TKwnLa",
        "outputId": "7ed0d2cd-cb77-4313-b082-cb5222a3a975"
      },
      "source": [
        "#Example of correlation chart\n",
        "df_zscore[nums].corr(method='pearson')"
      ],
      "execution_count": null,
      "outputs": [
        {
          "output_type": "execute_result",
          "data": {
            "text/html": [
              "<div>\n",
              "<style scoped>\n",
              "    .dataframe tbody tr th:only-of-type {\n",
              "        vertical-align: middle;\n",
              "    }\n",
              "\n",
              "    .dataframe tbody tr th {\n",
              "        vertical-align: top;\n",
              "    }\n",
              "\n",
              "    .dataframe thead th {\n",
              "        text-align: right;\n",
              "    }\n",
              "</style>\n",
              "<table border=\"1\" class=\"dataframe\">\n",
              "  <thead>\n",
              "    <tr style=\"text-align: right;\">\n",
              "      <th></th>\n",
              "      <th>age</th>\n",
              "      <th>oldpeak</th>\n",
              "      <th>trestbps</th>\n",
              "      <th>chol</th>\n",
              "      <th>thalach</th>\n",
              "    </tr>\n",
              "  </thead>\n",
              "  <tbody>\n",
              "    <tr>\n",
              "      <th>age</th>\n",
              "      <td>1.000000</td>\n",
              "      <td>0.176795</td>\n",
              "      <td>0.308255</td>\n",
              "      <td>0.174017</td>\n",
              "      <td>-0.402742</td>\n",
              "    </tr>\n",
              "    <tr>\n",
              "      <th>oldpeak</th>\n",
              "      <td>0.176795</td>\n",
              "      <td>1.000000</td>\n",
              "      <td>0.221555</td>\n",
              "      <td>0.032524</td>\n",
              "      <td>-0.323055</td>\n",
              "    </tr>\n",
              "    <tr>\n",
              "      <th>trestbps</th>\n",
              "      <td>0.308255</td>\n",
              "      <td>0.221555</td>\n",
              "      <td>1.000000</td>\n",
              "      <td>0.146195</td>\n",
              "      <td>-0.045169</td>\n",
              "    </tr>\n",
              "    <tr>\n",
              "      <th>chol</th>\n",
              "      <td>0.174017</td>\n",
              "      <td>0.032524</td>\n",
              "      <td>0.146195</td>\n",
              "      <td>1.000000</td>\n",
              "      <td>-0.010572</td>\n",
              "    </tr>\n",
              "    <tr>\n",
              "      <th>thalach</th>\n",
              "      <td>-0.402742</td>\n",
              "      <td>-0.323055</td>\n",
              "      <td>-0.045169</td>\n",
              "      <td>-0.010572</td>\n",
              "      <td>1.000000</td>\n",
              "    </tr>\n",
              "  </tbody>\n",
              "</table>\n",
              "</div>"
            ],
            "text/plain": [
              "               age   oldpeak  trestbps      chol   thalach\n",
              "age       1.000000  0.176795  0.308255  0.174017 -0.402742\n",
              "oldpeak   0.176795  1.000000  0.221555  0.032524 -0.323055\n",
              "trestbps  0.308255  0.221555  1.000000  0.146195 -0.045169\n",
              "chol      0.174017  0.032524  0.146195  1.000000 -0.010572\n",
              "thalach  -0.402742 -0.323055 -0.045169 -0.010572  1.000000"
            ]
          },
          "metadata": {
            "tags": []
          },
          "execution_count": 87
        }
      ]
    },
    {
      "cell_type": "markdown",
      "metadata": {
        "id": "lkjUg-dT_IhT"
      },
      "source": [
        "Now we will use Variance inflation factor to check for multi-collinearity\n",
        "\n",
        "Interpreting VIF:\n",
        "- https://www.statisticshowto.com/variance-inflation-factor/\n",
        "\n",
        "Conceptual:\n",
        "- Multi-collinearity: https://en.wikipedia.org/wiki/Multicollinearity\n",
        "- VIF: https://en.wikipedia.org/wiki/Variance_inflation_factor\n"
      ]
    },
    {
      "cell_type": "code",
      "metadata": {
        "colab": {
          "base_uri": "https://localhost:8080/",
          "height": 827
        },
        "id": "0GZDHikc-kPO",
        "outputId": "2739eb26-e943-4953-9b9e-12f0cefcaed4"
      },
      "source": [
        "from statsmodels.stats.outliers_influence import variance_inflation_factor\n",
        "def calc_vif(df):\n",
        "    vif = pd.DataFrame()\n",
        "    vif[\"variables\"] = df.columns\n",
        "    vif[\"VIF\"] = [variance_inflation_factor(df.values, i) for i in range(df.shape[1])]\n",
        "    return(vif)\n",
        "\n",
        "#Reading https://towardsdatascience.com/why-feature-correlation-matters-a-lot-847e8ba439c4\n",
        "calc_vif(df_zscore[df_zscore.columns.drop('target')])\n",
        "\n"
      ],
      "execution_count": null,
      "outputs": [
        {
          "output_type": "stream",
          "text": [
            "/usr/local/lib/python3.7/dist-packages/statsmodels/stats/outliers_influence.py:185: RuntimeWarning: divide by zero encountered in double_scalars\n",
            "  vif = 1. / (1. - r_squared_i)\n"
          ],
          "name": "stderr"
        },
        {
          "output_type": "execute_result",
          "data": {
            "text/html": [
              "<div>\n",
              "<style scoped>\n",
              "    .dataframe tbody tr th:only-of-type {\n",
              "        vertical-align: middle;\n",
              "    }\n",
              "\n",
              "    .dataframe tbody tr th {\n",
              "        vertical-align: top;\n",
              "    }\n",
              "\n",
              "    .dataframe thead th {\n",
              "        text-align: right;\n",
              "    }\n",
              "</style>\n",
              "<table border=\"1\" class=\"dataframe\">\n",
              "  <thead>\n",
              "    <tr style=\"text-align: right;\">\n",
              "      <th></th>\n",
              "      <th>variables</th>\n",
              "      <th>VIF</th>\n",
              "    </tr>\n",
              "  </thead>\n",
              "  <tbody>\n",
              "    <tr>\n",
              "      <th>0</th>\n",
              "      <td>age</td>\n",
              "      <td>1.520424</td>\n",
              "    </tr>\n",
              "    <tr>\n",
              "      <th>1</th>\n",
              "      <td>sex</td>\n",
              "      <td>1.300096</td>\n",
              "    </tr>\n",
              "    <tr>\n",
              "      <th>2</th>\n",
              "      <td>trestbps</td>\n",
              "      <td>1.279814</td>\n",
              "    </tr>\n",
              "    <tr>\n",
              "      <th>3</th>\n",
              "      <td>chol</td>\n",
              "      <td>1.137202</td>\n",
              "    </tr>\n",
              "    <tr>\n",
              "      <th>4</th>\n",
              "      <td>fbs</td>\n",
              "      <td>1.214299</td>\n",
              "    </tr>\n",
              "    <tr>\n",
              "      <th>5</th>\n",
              "      <td>thalach</td>\n",
              "      <td>1.683830</td>\n",
              "    </tr>\n",
              "    <tr>\n",
              "      <th>6</th>\n",
              "      <td>exang</td>\n",
              "      <td>1.568929</td>\n",
              "    </tr>\n",
              "    <tr>\n",
              "      <th>7</th>\n",
              "      <td>oldpeak</td>\n",
              "      <td>1.927428</td>\n",
              "    </tr>\n",
              "    <tr>\n",
              "      <th>8</th>\n",
              "      <td>ca</td>\n",
              "      <td>1.204776</td>\n",
              "    </tr>\n",
              "    <tr>\n",
              "      <th>9</th>\n",
              "      <td>cp_Asympt.</td>\n",
              "      <td>inf</td>\n",
              "    </tr>\n",
              "    <tr>\n",
              "      <th>10</th>\n",
              "      <td>cp_Atypical</td>\n",
              "      <td>inf</td>\n",
              "    </tr>\n",
              "    <tr>\n",
              "      <th>11</th>\n",
              "      <td>cp_Non</td>\n",
              "      <td>inf</td>\n",
              "    </tr>\n",
              "    <tr>\n",
              "      <th>12</th>\n",
              "      <td>cp_Typical</td>\n",
              "      <td>inf</td>\n",
              "    </tr>\n",
              "    <tr>\n",
              "      <th>13</th>\n",
              "      <td>restecg_LV hyper</td>\n",
              "      <td>inf</td>\n",
              "    </tr>\n",
              "    <tr>\n",
              "      <th>14</th>\n",
              "      <td>restecg_Normal</td>\n",
              "      <td>inf</td>\n",
              "    </tr>\n",
              "    <tr>\n",
              "      <th>15</th>\n",
              "      <td>restecg_ST-T wave</td>\n",
              "      <td>inf</td>\n",
              "    </tr>\n",
              "    <tr>\n",
              "      <th>16</th>\n",
              "      <td>slope_down</td>\n",
              "      <td>inf</td>\n",
              "    </tr>\n",
              "    <tr>\n",
              "      <th>17</th>\n",
              "      <td>slope_flat</td>\n",
              "      <td>inf</td>\n",
              "    </tr>\n",
              "    <tr>\n",
              "      <th>18</th>\n",
              "      <td>slope_up</td>\n",
              "      <td>inf</td>\n",
              "    </tr>\n",
              "    <tr>\n",
              "      <th>19</th>\n",
              "      <td>thal_Fixed</td>\n",
              "      <td>inf</td>\n",
              "    </tr>\n",
              "    <tr>\n",
              "      <th>20</th>\n",
              "      <td>thal_NA</td>\n",
              "      <td>inf</td>\n",
              "    </tr>\n",
              "    <tr>\n",
              "      <th>21</th>\n",
              "      <td>thal_Normal</td>\n",
              "      <td>inf</td>\n",
              "    </tr>\n",
              "    <tr>\n",
              "      <th>22</th>\n",
              "      <td>thal_Reverse</td>\n",
              "      <td>inf</td>\n",
              "    </tr>\n",
              "  </tbody>\n",
              "</table>\n",
              "</div>"
            ],
            "text/plain": [
              "            variables       VIF\n",
              "0                 age  1.520424\n",
              "1                 sex  1.300096\n",
              "2            trestbps  1.279814\n",
              "3                chol  1.137202\n",
              "4                 fbs  1.214299\n",
              "5             thalach  1.683830\n",
              "6               exang  1.568929\n",
              "7             oldpeak  1.927428\n",
              "8                  ca  1.204776\n",
              "9          cp_Asympt.       inf\n",
              "10        cp_Atypical       inf\n",
              "11             cp_Non       inf\n",
              "12         cp_Typical       inf\n",
              "13   restecg_LV hyper       inf\n",
              "14     restecg_Normal       inf\n",
              "15  restecg_ST-T wave       inf\n",
              "16         slope_down       inf\n",
              "17         slope_flat       inf\n",
              "18           slope_up       inf\n",
              "19         thal_Fixed       inf\n",
              "20            thal_NA       inf\n",
              "21        thal_Normal       inf\n",
              "22       thal_Reverse       inf"
            ]
          },
          "metadata": {
            "tags": []
          },
          "execution_count": 88
        }
      ]
    },
    {
      "cell_type": "markdown",
      "metadata": {
        "id": "wRuzbEKrxhPc"
      },
      "source": [
        "**TODO: Use the feature engineering module learning to choose good features for this dataset.  **"
      ]
    },
    {
      "cell_type": "markdown",
      "metadata": {
        "id": "EQ_CCnIY7hOT"
      },
      "source": [
        "### Step 3: Making a Model\n",
        "\n",
        "This is the final set of steps! Great work so far! What is above here is the \"methods\" section of the report. From here on it will be \"results\"\n",
        "\n",
        "First we need to split up the data so we can test the final model on data we haven't used to train!\n",
        "\n",
        "In the next steps we separate the target and the features. We call the target y and the features X."
      ]
    },
    {
      "cell_type": "code",
      "metadata": {
        "id": "nrrf_Va-XORD"
      },
      "source": [
        "X = df_zscore[df_zscore.columns.drop('target')]\n",
        "y = df_zscore['target']"
      ],
      "execution_count": null,
      "outputs": []
    },
    {
      "cell_type": "markdown",
      "metadata": {
        "id": "8nCBKISUpJks"
      },
      "source": [
        "Next, we split up the set again to have some data we withhold for testing and some data we keep for training! This way we don't \"overfit\".\n",
        "\n",
        "We arbitrarily take 80% for training and 20% for testing. We have a random state at 98 so we get the same result everytime."
      ]
    },
    {
      "cell_type": "code",
      "metadata": {
        "id": "-tnsq3sopSLq"
      },
      "source": [
        "# Make train and set set\n",
        "from sklearn.model_selection import train_test_split\n",
        "X_train, X_test, y_train, y_test = train_test_split(X, y, train_size=0.8, test_size=0.2, random_state=98)"
      ],
      "execution_count": null,
      "outputs": []
    },
    {
      "cell_type": "markdown",
      "metadata": {
        "id": "7OmKjvoXq34M"
      },
      "source": [
        "Now we will make the default model. This is a baseline we are looking to improve"
      ]
    },
    {
      "cell_type": "code",
      "metadata": {
        "colab": {
          "base_uri": "https://localhost:8080/"
        },
        "id": "cqreQRLxq7ou",
        "outputId": "f74905d7-a18b-416d-9245-13bbc5988aeb"
      },
      "source": [
        "from sklearn.metrics import classification_report, confusion_matrix\n",
        "\n",
        "dt_default = DecisionTreeClassifier(random_state=0)\n",
        "dt_default.fit(X_train, y_train)\n",
        "predictions = dt_default.predict(X_test)\n",
        "print(classification_report(y_test, predictions))\n"
      ],
      "execution_count": null,
      "outputs": [
        {
          "output_type": "stream",
          "text": [
            "              precision    recall  f1-score   support\n",
            "\n",
            "         0.0       0.77      0.81      0.79        21\n",
            "         1.0       0.85      0.82      0.84        28\n",
            "\n",
            "    accuracy                           0.82        49\n",
            "   macro avg       0.81      0.82      0.81        49\n",
            "weighted avg       0.82      0.82      0.82        49\n",
            "\n"
          ],
          "name": "stdout"
        }
      ]
    },
    {
      "cell_type": "markdown",
      "metadata": {
        "id": "xq2o93Z4sXQp"
      },
      "source": [
        "Above is the classification report. There are a lot of new terms here but this is how we interpret it.\n",
        "\n",
        "The classes are 0.0 or 1.0, recall 0 mean no heart disease and 1 means heart disease.\n",
        "\n",
        "- The recall means \"how many of this class you find over the whole number of element of this class\"\n",
        "- The precision will be \"how many are correctly classified among that class\"\n",
        "- The f1-score is the harmonic mean between precision & recall\n",
        "- The support is the number of occurence of the given class in your dataset (so you have 37.5K of class 0 and 37.5K of class 1, which is a really well balanced dataset.\n",
        "\n",
        "Precision, recall and accuracy (overall are more important)\n",
        "\n",
        "[reference](https://datascience.stackexchange.com/questions/64441/how-to-interpret-classification-report-of-scikit-learn)"
      ]
    },
    {
      "cell_type": "code",
      "metadata": {
        "colab": {
          "base_uri": "https://localhost:8080/"
        },
        "id": "H4Iqxo2JrgPn",
        "outputId": "e65b4cb3-9473-497d-ffc3-da3661915b7e"
      },
      "source": [
        "print(confusion_matrix(y_test, predictions))"
      ],
      "execution_count": null,
      "outputs": [
        {
          "output_type": "stream",
          "text": [
            "[[17  4]\n",
            " [ 5 23]]\n"
          ],
          "name": "stdout"
        }
      ]
    },
    {
      "cell_type": "markdown",
      "metadata": {
        "id": "j8q3O64DrYCU"
      },
      "source": [
        "What we see above is the \"confusion matrix\" it tells us how good our model is and is a way to check how good the model is. Below is how you interpret.\n",
        "\n",
        "[[\"True negative\", \"False positive\"]]\n",
        "\n",
        "[\"False negative\", \"True Positive\"]]\n",
        "\n",
        "\n",
        "A true negative means the real answer is negative and the model got negative. This is good!\n",
        "\n",
        "A False positive means we got positive when the real answer was negative. This is bad!\n",
        "\n",
        "A False negative means we got negative when the real answer was positive. This is bad!\n",
        "\n",
        "A True positive means the real answer was true and the model got true! This is good!\n",
        "\n"
      ]
    },
    {
      "cell_type": "markdown",
      "metadata": {
        "id": "lkFfa0W2tV7x"
      },
      "source": [
        "Next, we will look at how our model made choices. I chose this model because it is easy to interpret."
      ]
    },
    {
      "cell_type": "code",
      "metadata": {
        "colab": {
          "base_uri": "https://localhost:8080/"
        },
        "id": "5fK53hjXtVDZ",
        "outputId": "5b07d4fb-ce05-4f43-fdee-9b38b17b4ebf"
      },
      "source": [
        "from sklearn.tree import export_text\n",
        "\n",
        "feature_list = ['age', 'sex', 'trestbps', 'chol', 'fbs', 'thalach', 'exang', 'oldpeak',\n",
        "       'ca', 'cp_Asympt.', 'cp_Atypical', 'cp_Non', 'cp_Typical',\n",
        "       'restecg_LV hyper', 'restecg_Normal', 'restecg_ST-T wave', 'slope_down',\n",
        "       'slope_flat', 'slope_up', 'thal_Fixed', 'thal_NA', 'thal_Normal',\n",
        "       'thal_Reverse']\n",
        "text_representation = export_text(dt_default, feature_names=feature_list)\n",
        "print(text_representation)"
      ],
      "execution_count": null,
      "outputs": [
        {
          "output_type": "stream",
          "text": [
            "|--- thal_Normal <= -0.14\n",
            "|   |--- ca <= -0.17\n",
            "|   |   |--- cp_Asympt. <= 0.07\n",
            "|   |   |   |--- trestbps <= -0.99\n",
            "|   |   |   |   |--- age <= -0.36\n",
            "|   |   |   |   |   |--- class: 0.0\n",
            "|   |   |   |   |--- age >  -0.36\n",
            "|   |   |   |   |   |--- class: 1.0\n",
            "|   |   |   |--- trestbps >  -0.99\n",
            "|   |   |   |   |--- age <= 1.24\n",
            "|   |   |   |   |   |--- cp_Atypical <= 0.95\n",
            "|   |   |   |   |   |   |--- class: 1.0\n",
            "|   |   |   |   |   |--- cp_Atypical >  0.95\n",
            "|   |   |   |   |   |   |--- age <= -0.41\n",
            "|   |   |   |   |   |   |   |--- class: 1.0\n",
            "|   |   |   |   |   |   |--- age >  -0.41\n",
            "|   |   |   |   |   |   |   |--- class: 0.0\n",
            "|   |   |   |   |--- age >  1.24\n",
            "|   |   |   |   |   |--- class: 0.0\n",
            "|   |   |--- cp_Asympt. >  0.07\n",
            "|   |   |   |--- thal_Fixed <= 1.82\n",
            "|   |   |   |   |--- oldpeak <= -0.37\n",
            "|   |   |   |   |   |--- trestbps <= 0.34\n",
            "|   |   |   |   |   |   |--- age <= -1.35\n",
            "|   |   |   |   |   |   |   |--- class: 0.0\n",
            "|   |   |   |   |   |   |--- age >  -1.35\n",
            "|   |   |   |   |   |   |   |--- class: 1.0\n",
            "|   |   |   |   |   |--- trestbps >  0.34\n",
            "|   |   |   |   |   |   |--- class: 0.0\n",
            "|   |   |   |   |--- oldpeak >  -0.37\n",
            "|   |   |   |   |   |--- class: 0.0\n",
            "|   |   |   |--- thal_Fixed >  1.82\n",
            "|   |   |   |   |--- oldpeak <= 1.22\n",
            "|   |   |   |   |   |--- class: 1.0\n",
            "|   |   |   |   |--- oldpeak >  1.22\n",
            "|   |   |   |   |   |--- class: 0.0\n",
            "|   |--- ca >  -0.17\n",
            "|   |   |--- chol <= -2.34\n",
            "|   |   |   |--- class: 1.0\n",
            "|   |   |--- chol >  -2.34\n",
            "|   |   |   |--- oldpeak <= -0.67\n",
            "|   |   |   |   |--- thalach <= -0.87\n",
            "|   |   |   |   |   |--- class: 1.0\n",
            "|   |   |   |   |--- thalach >  -0.87\n",
            "|   |   |   |   |   |--- class: 0.0\n",
            "|   |   |   |--- oldpeak >  -0.67\n",
            "|   |   |   |   |--- class: 0.0\n",
            "|--- thal_Normal >  -0.14\n",
            "|   |--- ca <= -0.17\n",
            "|   |   |--- age <= 0.36\n",
            "|   |   |   |--- oldpeak <= 2.06\n",
            "|   |   |   |   |--- class: 1.0\n",
            "|   |   |   |--- oldpeak >  2.06\n",
            "|   |   |   |   |--- class: 0.0\n",
            "|   |   |--- age >  0.36\n",
            "|   |   |   |--- cp_Asympt. <= 0.07\n",
            "|   |   |   |   |--- chol <= 0.72\n",
            "|   |   |   |   |   |--- oldpeak <= 1.43\n",
            "|   |   |   |   |   |   |--- class: 1.0\n",
            "|   |   |   |   |   |--- oldpeak >  1.43\n",
            "|   |   |   |   |   |   |--- class: 0.0\n",
            "|   |   |   |   |--- chol >  0.72\n",
            "|   |   |   |   |   |--- sex <= -0.34\n",
            "|   |   |   |   |   |   |--- class: 1.0\n",
            "|   |   |   |   |   |--- sex >  -0.34\n",
            "|   |   |   |   |   |   |--- class: 0.0\n",
            "|   |   |   |--- cp_Asympt. >  0.07\n",
            "|   |   |   |   |--- age <= 0.63\n",
            "|   |   |   |   |   |--- class: 1.0\n",
            "|   |   |   |   |--- age >  0.63\n",
            "|   |   |   |   |   |--- age <= 1.02\n",
            "|   |   |   |   |   |   |--- class: 0.0\n",
            "|   |   |   |   |   |--- age >  1.02\n",
            "|   |   |   |   |   |   |--- thalach <= -2.32\n",
            "|   |   |   |   |   |   |   |--- class: 0.0\n",
            "|   |   |   |   |   |   |--- thalach >  -2.32\n",
            "|   |   |   |   |   |   |   |--- class: 1.0\n",
            "|   |--- ca >  -0.17\n",
            "|   |   |--- cp_Asympt. <= 0.07\n",
            "|   |   |   |--- chol <= -0.08\n",
            "|   |   |   |   |--- age <= 0.14\n",
            "|   |   |   |   |   |--- chol <= -1.64\n",
            "|   |   |   |   |   |   |--- class: 0.0\n",
            "|   |   |   |   |   |--- chol >  -1.64\n",
            "|   |   |   |   |   |   |--- class: 1.0\n",
            "|   |   |   |   |--- age >  0.14\n",
            "|   |   |   |   |   |--- fbs <= 1.01\n",
            "|   |   |   |   |   |   |--- class: 0.0\n",
            "|   |   |   |   |   |--- fbs >  1.01\n",
            "|   |   |   |   |   |   |--- class: 1.0\n",
            "|   |   |   |--- chol >  -0.08\n",
            "|   |   |   |   |--- chol <= 1.56\n",
            "|   |   |   |   |   |--- class: 1.0\n",
            "|   |   |   |   |--- chol >  1.56\n",
            "|   |   |   |   |   |--- chol <= 2.62\n",
            "|   |   |   |   |   |   |--- class: 0.0\n",
            "|   |   |   |   |   |--- chol >  2.62\n",
            "|   |   |   |   |   |   |--- class: 1.0\n",
            "|   |   |--- cp_Asympt. >  0.07\n",
            "|   |   |   |--- chol <= 1.10\n",
            "|   |   |   |   |--- class: 0.0\n",
            "|   |   |   |--- chol >  1.10\n",
            "|   |   |   |   |--- class: 1.0\n",
            "\n"
          ],
          "name": "stdout"
        }
      ]
    },
    {
      "cell_type": "markdown",
      "metadata": {
        "id": "OCYSCCylw0MY"
      },
      "source": [
        "We can interpret the above by seeing how the model makes each decision as it goes!"
      ]
    },
    {
      "cell_type": "markdown",
      "metadata": {
        "id": "i-35fuqQv0e_"
      },
      "source": [
        "There are a lot of improvements on parameters in the decision tree that we can \"tune\" but we are skipping this for now. We could also refine which features we include more."
      ]
    },
    {
      "cell_type": "markdown",
      "metadata": {
        "id": "9upIm9s50Lzp"
      },
      "source": [
        "Interpreting the final model results is a key part of the final report!"
      ]
    },
    {
      "cell_type": "markdown",
      "metadata": {
        "id": "1L8YjsaXwHld"
      },
      "source": [
        "Great work! This is your first machine learning model! :D"
      ]
    }
  ]
}